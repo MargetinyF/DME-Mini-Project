{
 "cells": [
  {
   "cell_type": "code",
   "execution_count": 7,
   "metadata": {},
   "outputs": [
    {
     "name": "stdout",
     "output_type": "stream",
     "text": [
      "Graham Hacon\n"
     ]
    }
   ],
   "source": [
    "from bs4 import BeautifulSoup\n",
    "import urllib3\n",
    "from urllib.request import urlopen\n",
    "import regex\n",
    "\n",
    "def scrapper_bfg (keyword):\n",
    "    link = urlopen(\"https://www.bgf.co.uk/full-portfolio-archive/\")\n",
    "    soup = BeautifulSoup(link, \"lxml\")\n",
    "    link_counter = 0\n",
    "    for link in soup.findAll('a', attrs={'href': regex.compile(\"^https://www.bgf.co.uk/our-portfolio/\")}):\n",
    "    #if link.find(\"our-portfolio\") == -1:\n",
    "        link_final = (link.get('href'))\n",
    "        new_page=urlopen(link_final)\n",
    "        new_soup = BeautifulSoup(new_page, \"lxml\")\n",
    "        data1 = new_soup.find(\"body\").get_text()\n",
    "        counter = 0\n",
    "        for line in data1.splitlines():\n",
    "            if keyword not in line:\n",
    "                 counter +=1\n",
    "            else:\n",
    "                counter = counter = counter + 1\n",
    "                return (data1.splitlines()[counter])\n",
    "\n",
    "x = scrapper_bfg('CEO')\n",
    "print (x)\n",
    "\n"
   ]
  },
  {
   "cell_type": "code",
   "execution_count": null,
   "metadata": {},
   "outputs": [],
   "source": []
  }
 ],
 "metadata": {
  "kernelspec": {
   "display_name": "Python 3",
   "language": "python",
   "name": "python3"
  },
  "language_info": {
   "codemirror_mode": {
    "name": "ipython",
    "version": 3
   },
   "file_extension": ".py",
   "mimetype": "text/x-python",
   "name": "python",
   "nbconvert_exporter": "python",
   "pygments_lexer": "ipython3",
   "version": "3.6.5"
  }
 },
 "nbformat": 4,
 "nbformat_minor": 2
}
