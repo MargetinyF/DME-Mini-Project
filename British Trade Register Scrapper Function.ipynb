{
 "cells": [
  {
   "cell_type": "code",
   "execution_count": 2,
   "metadata": {},
   "outputs": [],
   "source": [
    "from bs4 import BeautifulSoup\n",
    "import urllib3\n",
    "from urllib.request import urlopen\n",
    "import regex\n",
    "import pandas as pd\n",
    "import numpy as np\n",
    "import matplotlib.pyplot as plt\n",
    "\n",
    "def preprocessing (query):\n",
    "    query = query.lstrip()\n",
    "    query = query.rstrip()\n",
    "    print (query)\n",
    "    query = query.replace (\" \", \"+\")\n",
    "    print (query)\n",
    "    return query\n",
    "\n",
    "def strip_trade_reg (company_name, link):\n",
    "    query = preprocessing(company_name)\n",
    "    link = (link + query)\n",
    "    link = urlopen(link)\n",
    "    entry = np.array([]) #create empty array for storing data\n",
    "    entry1 = company_name\n",
    "    arr_final = np.array([])\n",
    "    soup = BeautifulSoup(link, \"lxml\")\n",
    "    snippet = soup.findAll('h3')\n",
    "    counter = 0\n",
    "    for h3 in snippet:\n",
    "        if counter ==1:\n",
    "            break\n",
    "        else:\n",
    "            for link in h3.findAll('a'):\n",
    "                link_string=(link.get('href') + \"\\n\")\n",
    "                print (link_string)\n",
    "                counter =1\n",
    "    new_query = ('https://beta.companieshouse.gov.uk/'+(link_string))\n",
    "    link = urlopen(new_query)\n",
    "    print (link)\n",
    "    soup = BeautifulSoup(link, \"lxml\")\n",
    "    snippet = soup.findAll('dd')\n",
    "    address=snippet[0].string\n",
    "    address = address.lstrip()\n",
    "    address = address.rstrip()\n",
    "    entry2=address\n",
    "    company_type=snippet[2].string\n",
    "    company_type = company_type.rstrip()\n",
    "    company_type = company_type.lstrip()\n",
    "    entry3=company_type\n",
    "    #if needed, here a snippet can be made for isolating last n elements (just postcode or city)\n",
    "    snippet=soup.findAll('span', {'id': 'sic0'})\n",
    "    industry = snippet[0].string\n",
    "    industry = industry.lstrip()\n",
    "    industry = industry.rstrip()\n",
    "    entry4 = industry\n",
    "    \n",
    "    entry = np.append(entry,entry1)\n",
    "    entry = np.append(entry,entry2)\n",
    "    entry = np.append(entry,entry3)\n",
    "    entry = np.append(entry,entry4)\n",
    "    entry = np.array2string(entry) #concatenate all entries and unify type of array into string\n",
    "    entry = (entry + '|') #append with delimiter\n",
    "        \n",
    "    arr_final= np.append(arr_final,entry) #make a string array\n",
    "    entry = np.array([])\n",
    "\n",
    "    return (arr_final)\n",
    "\n",
    "\n",
    "\n",
    "\n",
    "\n",
    "    "
   ]
  },
  {
   "cell_type": "code",
   "execution_count": 3,
   "metadata": {},
   "outputs": [
    {
     "name": "stdout",
     "output_type": "stream",
     "text": [
      "STATS Group\n",
      "STATS+Group\n",
      "/company/06212403\n",
      "\n",
      "<http.client.HTTPResponse object at 0x000002350F331908>\n",
      "[\"['STATS Group' 'Spring Lodge, 172 Chester Road, Helsby, Cheshire, WA6 0AR'\\n 'Private limited Company' '74901 - Environmental consulting activities']|\"]\n"
     ]
    }
   ],
   "source": [
    "x = strip_trade_reg('STATS Group', 'https://beta.companieshouse.gov.uk/search?q=')\n",
    "print (x)\n"
   ]
  },
  {
   "cell_type": "code",
   "execution_count": null,
   "metadata": {},
   "outputs": [],
   "source": []
  }
 ],
 "metadata": {
  "kernelspec": {
   "display_name": "Python 3",
   "language": "python",
   "name": "python3"
  },
  "language_info": {
   "codemirror_mode": {
    "name": "ipython",
    "version": 3
   },
   "file_extension": ".py",
   "mimetype": "text/x-python",
   "name": "python",
   "nbconvert_exporter": "python",
   "pygments_lexer": "ipython3",
   "version": "3.6.5"
  }
 },
 "nbformat": 4,
 "nbformat_minor": 2
}
